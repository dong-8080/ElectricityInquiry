{
 "cells": [
  {
   "cell_type": "markdown",
   "metadata": {},
   "source": [
    "## 空调电费查询接口\n",
    "url为http://www.sdsddk.sdnu.edu.cn/wxapp/pay/queryElectricity\n",
    "\n",
    "data数据包含三项：\n",
    "* userXq：用户校区，填写“长清湖校区”“千佛山校区”\n",
    "* userFj：用户房间号，表示为 宿舍楼号-宿舍楼层-0-房间号，如27号楼503表示为2705002，在楼层号与房间号之间多加一个0\n",
    "* payType：待查询的类型，1表示照明电费，2表示空调电费\n",
    "\n",
    "返回的数据对象中，plusElec和feeElec表示当前的电费\n"
   ]
  },
  {
   "cell_type": "markdown",
   "metadata": {},
   "source": [
    "## 查询接口"
   ]
  },
  {
   "cell_type": "code",
   "execution_count": 60,
   "metadata": {},
   "outputs": [
    {
     "name": "stdout",
     "output_type": "stream",
     "text": [
      "{\"success\": true,\"message\": {\"feeElec\":\"0\",\"negElec\":\"0.00\",\"status\":\"正常供电\",\"freeElec\":\"110.10\",\"plusElec\":\"110.10\",\"room\":\"2003021\"}}\n",
      "0\n"
     ]
    }
   ],
   "source": [
    "import urllib.request\n",
    "import urllib.parse\n",
    "import json\n",
    "\n",
    "url = \"http://www.sdsddk.sdnu.edu.cn/wxapp/pay/queryElectricity\"\n",
    "data=  {\n",
    "    \"userXq\":\"长清湖校区\",\n",
    "    \"userFj\":\"2003021\",\n",
    "    \"payType\":\"1\"\n",
    "}\n",
    "#对要发送的数据进行打包\n",
    "postData = urllib.parse.urlencode(data).encode(\"utf-8\")\n",
    "#请求体\n",
    "req = urllib.request.Request(url, postData)\n",
    "#发起请求\n",
    "req.add_header( \"User-Agent\", \"Mozilla/5.0 (Windows NT 10.0; WOW64) AppleWebKit/537.36 (KHTML, like Gecko) Chrome/68.0.3440.84 Safari/537.36\")\n",
    "response = urllib.request.urlopen(req)\n",
    "res = response.read().decode(\"utf-8\")\n",
    "print(res)\n",
    "print(json.loads(res)[\"message\"][\"feeElec\"])"
   ]
  },
  {
   "cell_type": "code",
   "execution_count": 64,
   "metadata": {},
   "outputs": [],
   "source": [
    "## 封装查询接口\n",
    "def getElec(userFj, payType=1):\n",
    "    url = \"http://www.sdsddk.sdnu.edu.cn/wxapp/pay/queryElectricity\"\n",
    "    data=  {\n",
    "        \"userXq\":\"长清湖校区\",\n",
    "        \"userFj\": userFj,\n",
    "        \"payType\": payType\n",
    "    }\n",
    "    #对要发送的数据进行打包\n",
    "    postData = urllib.parse.urlencode(data).encode(\"utf-8\")\n",
    "    #请求体\n",
    "    req = urllib.request.Request(url, postData)\n",
    "    #发起请求\n",
    "    req.add_header( \"User-Agent\", \"Mozilla/5.0 (Windows NT 10.0; WOW64) AppleWebKit/537.36 (KHTML, like Gecko) Chrome/68.0.3440.84 Safari/537.36\")\n",
    "    response = urllib.request.urlopen(req)\n",
    "    res = response.read().decode(\"utf-8\")\n",
    "    return json.loads(res)[\"message\"][\"plusElec\"]"
   ]
  },
  {
   "cell_type": "markdown",
   "metadata": {},
   "source": [
    "## 读取学生数据"
   ]
  },
  {
   "cell_type": "code",
   "execution_count": 1,
   "metadata": {},
   "outputs": [],
   "source": [
    "import pandas as pd\n",
    "import os"
   ]
  },
  {
   "cell_type": "code",
   "execution_count": 3,
   "metadata": {},
   "outputs": [],
   "source": [
    "filePath = r\"A:\\desktop\\宿舍表.xlsx\"\n",
    "\n",
    "df = pd.read_excel(filePath)"
   ]
  },
  {
   "cell_type": "code",
   "execution_count": 70,
   "metadata": {},
   "outputs": [],
   "source": [
    "# 研一所有学生的宿舍数据，包括宿舍楼号，房间号，床位号\n",
    "# 如 27.0\t436.0\tNaN\t谭**\t徐**\t蔡**\n",
    "# df"
   ]
  },
  {
   "cell_type": "code",
   "execution_count": 13,
   "metadata": {},
   "outputs": [],
   "source": [
    "df.drop(axis = 0, index=6, inplace=True)"
   ]
  },
  {
   "cell_type": "code",
   "execution_count": 20,
   "metadata": {},
   "outputs": [
    {
     "data": {
      "text/plain": [
       "array([23., 23., 23., 27., 23., 23., 27., 23., 27., 23., 23., 23., 23.,\n",
       "       27., 23., 23., 27., 23., 27., 23., 27., 23., 27., 26., 27., 27.,\n",
       "       27., 26., 27., 27., 23., 23., 27., 23., 27., 23., 27., 27., 27.,\n",
       "       27., 27., 23., 27., 27., 23., 23., 23., 27., 27., 26.])"
      ]
     },
     "execution_count": 20,
     "metadata": {},
     "output_type": "execute_result"
    }
   ],
   "source": [
    "df.iloc[:,0].values"
   ]
  },
  {
   "cell_type": "code",
   "execution_count": 21,
   "metadata": {},
   "outputs": [
    {
     "data": {
      "text/plain": [
       "array([520., 507., 508., 503., 510., 506., 444., 513., 442., 511., 504.,\n",
       "       503., 514., 504., 505., 516., 436., 515., 524., 512., 501., 509.,\n",
       "       522., 206., 526., 520., 523., 205., 521., 438., 518., 519., 502.,\n",
       "       517., 525., 517., 440., 527., 311., 530., 621., 332., 529., 528.,\n",
       "       330., 334., 523., 310., 532., 204.])"
      ]
     },
     "execution_count": 21,
     "metadata": {},
     "output_type": "execute_result"
    }
   ],
   "source": [
    "df.iloc[:,1].values"
   ]
  },
  {
   "cell_type": "code",
   "execution_count": 37,
   "metadata": {},
   "outputs": [],
   "source": [
    "for i in df.iloc[:,0].values:\n",
    "    '{:0>2d}'.format(int(i))"
   ]
  },
  {
   "cell_type": "code",
   "execution_count": 46,
   "metadata": {
    "scrolled": true
   },
   "outputs": [
    {
     "name": "stdout",
     "output_type": "stream",
     "text": [
      "2305020\n",
      "2305007\n",
      "2305008\n",
      "2705003\n",
      "2305010\n",
      "2305006\n",
      "2704044\n",
      "2305013\n",
      "2704042\n",
      "2305011\n",
      "2305004\n",
      "2305003\n",
      "2305014\n",
      "2705004\n",
      "2305005\n",
      "2305016\n",
      "2704036\n",
      "2305015\n",
      "2705024\n",
      "2305012\n",
      "2705001\n",
      "2305009\n",
      "2705022\n",
      "2602006\n",
      "2705026\n",
      "2705020\n",
      "2705023\n",
      "2602005\n",
      "2705021\n",
      "2704038\n",
      "2305018\n",
      "2305019\n",
      "2705002\n",
      "2305017\n",
      "2705025\n",
      "2305017\n",
      "2704040\n",
      "2705027\n",
      "2703011\n",
      "2705030\n",
      "2706021\n",
      "2303032\n",
      "2705029\n",
      "2705028\n",
      "2303030\n",
      "2303034\n",
      "2305023\n",
      "2703010\n",
      "2705032\n",
      "2602004\n"
     ]
    }
   ],
   "source": [
    "# 输入楼号与房间号，转化为userFj所需要的输入形式\n",
    "id_rooms = []\n",
    "for i, j in zip(df.iloc[:,0].values, df.iloc[:,1].values):\n",
    "    building_num = '{:0>2d}'.format(int(i))\n",
    "    s = '{:0>4d}'.format(int(j))\n",
    "    l = list(s)\n",
    "    l.insert(2,'0')\n",
    "    floor_num = ''.join(l)\n",
    "    id_rooms.append(building_num+floor_num)\n",
    "    print(building_num+floor_num)\n"
   ]
  },
  {
   "cell_type": "code",
   "execution_count": 48,
   "metadata": {},
   "outputs": [
    {
     "data": {
      "text/plain": [
       "['2305020',\n",
       " '2305007',\n",
       " '2305008',\n",
       " '2705003',\n",
       " '2305010',\n",
       " '2305006',\n",
       " '2704044',\n",
       " '2305013',\n",
       " '2704042',\n",
       " '2305011',\n",
       " '2305004',\n",
       " '2305003',\n",
       " '2305014',\n",
       " '2705004',\n",
       " '2305005',\n",
       " '2305016',\n",
       " '2704036',\n",
       " '2305015',\n",
       " '2705024',\n",
       " '2305012',\n",
       " '2705001',\n",
       " '2305009',\n",
       " '2705022',\n",
       " '2602006',\n",
       " '2705026',\n",
       " '2705020',\n",
       " '2705023',\n",
       " '2602005',\n",
       " '2705021',\n",
       " '2704038',\n",
       " '2305018',\n",
       " '2305019',\n",
       " '2705002',\n",
       " '2305017',\n",
       " '2705025',\n",
       " '2305017',\n",
       " '2704040',\n",
       " '2705027',\n",
       " '2703011',\n",
       " '2705030',\n",
       " '2706021',\n",
       " '2303032',\n",
       " '2705029',\n",
       " '2705028',\n",
       " '2303030',\n",
       " '2303034',\n",
       " '2305023',\n",
       " '2703010',\n",
       " '2705032',\n",
       " '2602004']"
      ]
     },
     "execution_count": 48,
     "metadata": {},
     "output_type": "execute_result"
    }
   ],
   "source": [
    "id_rooms"
   ]
  },
  {
   "cell_type": "markdown",
   "metadata": {},
   "source": [
    "## 批量读取数据"
   ]
  },
  {
   "cell_type": "code",
   "execution_count": 66,
   "metadata": {},
   "outputs": [
    {
     "name": "stdout",
     "output_type": "stream",
     "text": [
      "2305020 327.48\n",
      "2305007 651.98\n",
      "2305008 436.07\n",
      "2705003 114.94\n",
      "2305010 299.77\n",
      "2305006 441.43\n",
      "2704044 156.20\n",
      "2305013 728.18\n",
      "2704042 30.44\n",
      "2305011 914.35\n",
      "2305004 332.42\n",
      "2305003 654.44\n",
      "2305014 417.01\n",
      "2705004 195.15\n",
      "2305005 931.67\n",
      "2305016 511.56\n",
      "2704036 225.34\n",
      "2305015 786.09\n",
      "2705024 113.60\n",
      "2305012 408.32\n",
      "2705001 102.44\n",
      "2305009 673.39\n",
      "2705022 219.24\n",
      "2602006 208.02\n",
      "2705026 255.95\n",
      "2705020 167.19\n",
      "2705023 184.65\n",
      "2602005 210.15\n",
      "2705021 213.81\n",
      "2704038 159.93\n",
      "2305018 354.01\n",
      "2305019 688.58\n",
      "2705002 202.55\n",
      "2305017 540.58\n",
      "2705025 220.49\n",
      "2305017 540.58\n",
      "2704040 35.13\n",
      "2705027 219.63\n",
      "2703011 242.22\n",
      "2705030 219.57\n",
      "2706021 202.99\n",
      "2303032 244.67\n",
      "2705029 153.42\n",
      "2705028 225.53\n",
      "2303030 371.56\n",
      "2303034 332.03\n",
      "2305023 740.13\n",
      "2703010 165.82\n",
      "2705032 159.59\n",
      "2602004 182.06\n"
     ]
    }
   ],
   "source": [
    "# 获取照明电费\n",
    "for roomid in id_rooms:\n",
    "    print(roomid, getElec(roomid))"
   ]
  },
  {
   "cell_type": "code",
   "execution_count": 68,
   "metadata": {},
   "outputs": [
    {
     "name": "stdout",
     "output_type": "stream",
     "text": [
      "2305020 3.42\n",
      "2305007 .00\n",
      "2305008 32.29\n",
      "2705003 62.75\n",
      "2305010 .00\n",
      "2305006 30.66\n",
      "2704044 14.66\n",
      "2305013 0.00\n",
      "2704042 0.00\n",
      "2305011 0.00\n",
      "2305004 0.00\n",
      "2305003 0.00\n",
      "2305014 0.00\n",
      "2705004 0.00\n",
      "2305005 0.00\n",
      "2305016 0.00\n",
      "2704036 0.00\n",
      "2305015 0.00\n",
      "2705024 0.00\n",
      "2305012 0.00\n",
      "2705001 0.00\n",
      "2305009 0.00\n",
      "2705022 0.00\n",
      "2602006 0.00\n",
      "2705026 0.00\n",
      "2705020 0.00\n",
      "2705023 0.00\n",
      "2602005 0.00\n",
      "2705021 0.00\n",
      "2704038 0.00\n",
      "2305018 0.00\n",
      "2305019 0.00\n",
      "2705002 0.00\n",
      "2305017 0.00\n",
      "2705025 0.00\n",
      "2305017 0.00\n",
      "2704040 0.00\n",
      "2705027 0.00\n",
      "2703011 0.00\n",
      "2705030 0.00\n",
      "2706021 0.00\n",
      "2303032 0.00\n",
      "2705029 0.00\n",
      "2705028 0.00\n",
      "2303030 0.00\n",
      "2303034 0.00\n",
      "2305023 0.00\n",
      "2703010 0.00\n",
      "2705032 0.00\n",
      "2602004 0.00\n"
     ]
    }
   ],
   "source": [
    "# 获取空调电费\n",
    "for roomid in id_rooms:\n",
    "    print(roomid, getElec(roomid, payType=2))"
   ]
  },
  {
   "cell_type": "code",
   "execution_count": 69,
   "metadata": {},
   "outputs": [],
   "source": [
    "# 获取空调电费显然太慢了，可能是有解析不出或者json格式不统一的问题\n",
    "# 上面数据不准确，可能是晚上1点之后不允许爬取，或者其他策略，明天解决吧"
   ]
  },
  {
   "cell_type": "code",
   "execution_count": null,
   "metadata": {},
   "outputs": [],
   "source": []
  }
 ],
 "metadata": {
  "kernelspec": {
   "display_name": "Python 3",
   "language": "python",
   "name": "python3"
  },
  "language_info": {
   "codemirror_mode": {
    "name": "ipython",
    "version": 3
   },
   "file_extension": ".py",
   "mimetype": "text/x-python",
   "name": "python",
   "nbconvert_exporter": "python",
   "pygments_lexer": "ipython3",
   "version": "3.8.3"
  }
 },
 "nbformat": 4,
 "nbformat_minor": 4
}
